{
 "cells": [
  {
   "cell_type": "code",
   "execution_count": 1,
   "metadata": {},
   "outputs": [],
   "source": [
    "from math import factorial"
   ]
  },
  {
   "cell_type": "code",
   "execution_count": 5,
   "metadata": {},
   "outputs": [],
   "source": [
    "from math import factorial\n",
    "def bin(n, x, p, q):\n",
    "    risultato = (factorial(n)/(factorial(x)*factorial(n-x))) * (p**x) * (q**(n-x))\n",
    "    return risultato"
   ]
  },
  {
   "cell_type": "code",
   "execution_count": 22,
   "metadata": {},
   "outputs": [
    {
     "data": {
      "text/plain": [
       "0.0546875"
      ]
     },
     "execution_count": 22,
     "metadata": {},
     "output_type": "execute_result"
    }
   ],
   "source": [
    "bin(7,1,1/2,1/2)"
   ]
  },
  {
   "cell_type": "code",
   "execution_count": null,
   "metadata": {},
   "outputs": [],
   "source": [
    "for i in range(2,7):"
   ]
  },
  {
   "cell_type": "code",
   "execution_count": 7,
   "metadata": {},
   "outputs": [
    {
     "data": {
      "text/plain": [
       "0.9375"
      ]
     },
     "execution_count": 7,
     "metadata": {},
     "output_type": "execute_result"
    }
   ],
   "source": [
    "bin(7,2,1/2,1/2)+bin(7,3,1/2,1/2)+bin(7,4,1/2,1/2)+bin(7,5,1/2,1/2)+bin(7,6,1/2,1/2)+bin(7,7,1/2,1/2)"
   ]
  },
  {
   "cell_type": "code",
   "execution_count": 19,
   "metadata": {},
   "outputs": [
    {
     "data": {
      "text/plain": [
       "0.9375"
      ]
     },
     "execution_count": 19,
     "metadata": {},
     "output_type": "execute_result"
    }
   ],
   "source": [
    "1 - (bin(7,1,1/2,1/2) + bin(7,0,1/2,1/2))"
   ]
  },
  {
   "cell_type": "code",
   "execution_count": 23,
   "metadata": {},
   "outputs": [
    {
     "data": {
      "text/plain": [
       "0.016460905349794233"
      ]
     },
     "execution_count": 23,
     "metadata": {},
     "output_type": "execute_result"
    }
   ],
   "source": [
    "bin(6,5,1/3,2/3)"
   ]
  },
  {
   "cell_type": "code",
   "execution_count": 25,
   "metadata": {},
   "outputs": [
    {
     "data": {
      "text/plain": [
       "2.0"
      ]
     },
     "execution_count": 25,
     "metadata": {},
     "output_type": "execute_result"
    }
   ],
   "source": [
    "media = 6 * 1/3\n",
    "media"
   ]
  },
  {
   "cell_type": "code",
   "execution_count": 27,
   "metadata": {},
   "outputs": [
    {
     "data": {
      "text/plain": [
       "1.3333333333333333"
      ]
     },
     "execution_count": 27,
     "metadata": {},
     "output_type": "execute_result"
    }
   ],
   "source": [
    "varianza = 6 * 1/3 * 2/3\n",
    "varianza"
   ]
  },
  {
   "cell_type": "markdown",
   "metadata": {},
   "source": [
    "7 ragazzi ognuno prende 1 decisione corretta, indipendetemente dagli altri, con precisione del 70%. \n",
    "1) Se la decisione viene presa a maggioranza, probabilità di decisione corretta\n",
    "2) Sapendo che precisamente 4 sono d'accordo, probabilità di decisione corretta"
   ]
  },
  {
   "cell_type": "code",
   "execution_count": 31,
   "metadata": {},
   "outputs": [
    {
     "data": {
      "text/plain": [
       "0.8739639999999996"
      ]
     },
     "execution_count": 31,
     "metadata": {},
     "output_type": "execute_result"
    }
   ],
   "source": [
    "bin(7,4,0.7,0.3) + bin(7,5,0.7,0.3) + bin(7,6,0.7,0.3) + bin(7,7,0.7,0.3)"
   ]
  },
  {
   "cell_type": "code",
   "execution_count": 38,
   "metadata": {},
   "outputs": [
    {
     "name": "stdout",
     "output_type": "stream",
     "text": [
      "0.07559999999999999\n",
      "0.34019999999999995\n",
      "0.7517999999999998\n",
      "0.9918999999999998\n"
     ]
    }
   ],
   "source": [
    "list = []\n",
    "\n",
    "for i in range(1,5):\n",
    "    list.append(bin(4,i, 0.7,0.3))\n",
    "    risultato = sum(list)\n",
    "    print(risultato)\n"
   ]
  },
  {
   "cell_type": "code",
   "execution_count": 39,
   "metadata": {},
   "outputs": [
    {
     "data": {
      "text/plain": [
       "0.07559999999999999"
      ]
     },
     "execution_count": 39,
     "metadata": {},
     "output_type": "execute_result"
    }
   ],
   "source": [
    "bin(4,1,0.7,0.3)"
   ]
  },
  {
   "cell_type": "code",
   "execution_count": 40,
   "metadata": {},
   "outputs": [
    {
     "data": {
      "text/plain": [
       "0.3456"
      ]
     },
     "execution_count": 40,
     "metadata": {},
     "output_type": "execute_result"
    }
   ],
   "source": [
    "bin(5,3,0.6,0.4)"
   ]
  },
  {
   "cell_type": "code",
   "execution_count": 42,
   "metadata": {},
   "outputs": [
    {
     "name": "stdout",
     "output_type": "stream",
     "text": [
      "0.23040000000000005\n",
      "0.3072000000000001\n",
      "0.3174400000000001\n"
     ]
    }
   ],
   "source": [
    "list = []\n",
    "\n",
    "for i in range(3,6):\n",
    "    list.append(bin(5,i, 0.4,0.6))\n",
    "    risultato = sum(list)\n",
    "    print(risultato)\n"
   ]
  },
  {
   "cell_type": "code",
   "execution_count": 53,
   "metadata": {},
   "outputs": [
    {
     "name": "stdout",
     "output_type": "stream",
     "text": [
      "0.48\n",
      "0.84\n"
     ]
    }
   ],
   "source": [
    "list = []\n",
    "\n",
    "for i in range(1,3):\n",
    "    list.append(bin(2,i, 0.6,0.4))\n",
    "    risultato = sum(list)\n",
    "    print(risultato)"
   ]
  },
  {
   "cell_type": "code",
   "execution_count": 60,
   "metadata": {},
   "outputs": [
    {
     "data": {
      "text/plain": [
       "0.3125"
      ]
     },
     "execution_count": 60,
     "metadata": {},
     "output_type": "execute_result"
    }
   ],
   "source": [
    "bin(5,3,0.5,0.5)"
   ]
  },
  {
   "cell_type": "code",
   "execution_count": 61,
   "metadata": {},
   "outputs": [
    {
     "name": "stdout",
     "output_type": "stream",
     "text": [
      "0.05120000000000002\n",
      "0.057600000000000026\n",
      "0.05792000000000003\n"
     ]
    }
   ],
   "source": [
    "list = []\n",
    "\n",
    "for i in range(3,6):\n",
    "    list.append(bin(5,i, 0.2,0.8))\n",
    "    risultato = sum(list)\n",
    "    print(risultato)"
   ]
  },
  {
   "cell_type": "code",
   "execution_count": 64,
   "metadata": {},
   "outputs": [
    {
     "name": "stdout",
     "output_type": "stream",
     "text": [
      "0.375\n",
      "0.75\n",
      "0.875\n"
     ]
    }
   ],
   "source": [
    "list = []\n",
    "\n",
    "for i in range(1,4):\n",
    "    list.append(bin(3,i, 0.5,0.5))\n",
    "    risultato = sum(list)\n",
    "    print(risultato)"
   ]
  },
  {
   "cell_type": "code",
   "execution_count": null,
   "metadata": {},
   "outputs": [],
   "source": []
  }
 ],
 "metadata": {
  "kernelspec": {
   "display_name": "Python 3",
   "language": "python",
   "name": "python3"
  },
  "language_info": {
   "codemirror_mode": {
    "name": "ipython",
    "version": 3
   },
   "file_extension": ".py",
   "mimetype": "text/x-python",
   "name": "python",
   "nbconvert_exporter": "python",
   "pygments_lexer": "ipython3",
   "version": "3.9.6"
  }
 },
 "nbformat": 4,
 "nbformat_minor": 2
}
