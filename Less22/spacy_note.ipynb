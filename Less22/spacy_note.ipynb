{
 "cells": [
  {
   "cell_type": "code",
   "execution_count": 56,
   "metadata": {},
   "outputs": [],
   "source": [
    "import spacy\n",
    "from spacy import displacy\n",
    "from sklearn.feature_extraction.text import TfidfTransformer,CountVectorizer\n",
    "import pandas as pd\n",
    "from sklearn.model_selection import train_test_split\n",
    "from sklearn.linear_model import LogisticRegression\n",
    "from sklearn.metrics import classification_report\n",
    "from sklearn.naive_bayes import MultinomialNB\n",
    "from sklearn.ensemble import RandomForestClassifier\n",
    "from tabpfn_client import TabPFNClassifier"
   ]
  },
  {
   "cell_type": "code",
   "execution_count": 2,
   "metadata": {},
   "outputs": [],
   "source": [
    "df = pd.read_csv('dataset.csv')"
   ]
  },
  {
   "cell_type": "code",
   "execution_count": 57,
   "metadata": {},
   "outputs": [
    {
     "data": {
      "text/html": [
       "<div>\n",
       "<style scoped>\n",
       "    .dataframe tbody tr th:only-of-type {\n",
       "        vertical-align: middle;\n",
       "    }\n",
       "\n",
       "    .dataframe tbody tr th {\n",
       "        vertical-align: top;\n",
       "    }\n",
       "\n",
       "    .dataframe thead th {\n",
       "        text-align: right;\n",
       "    }\n",
       "</style>\n",
       "<table border=\"1\" class=\"dataframe\">\n",
       "  <thead>\n",
       "    <tr style=\"text-align: right;\">\n",
       "      <th></th>\n",
       "      <th>reviewId</th>\n",
       "      <th>content</th>\n",
       "      <th>score</th>\n",
       "      <th>thumbsUpCount</th>\n",
       "      <th>reviewCreatedVersion</th>\n",
       "      <th>at</th>\n",
       "      <th>replyContent</th>\n",
       "      <th>repliedAt</th>\n",
       "      <th>predicted_category</th>\n",
       "      <th>sentiment</th>\n",
       "      <th>appVersion</th>\n",
       "    </tr>\n",
       "  </thead>\n",
       "  <tbody>\n",
       "    <tr>\n",
       "      <th>0</th>\n",
       "      <td>326d4bdd-8fc6-4d64-b3bf-ce393fb2ae9b</td>\n",
       "      <td>woww</td>\n",
       "      <td>5</td>\n",
       "      <td>0</td>\n",
       "      <td>NaN</td>\n",
       "      <td>2022-08-16 05:55:38</td>\n",
       "      <td>NaN</td>\n",
       "      <td>NaN</td>\n",
       "      <td>USER_EXPERIENCE</td>\n",
       "      <td>NEUTRAL</td>\n",
       "      <td>NaN</td>\n",
       "    </tr>\n",
       "    <tr>\n",
       "      <th>1</th>\n",
       "      <td>4bbf741b-2f69-43cd-bb76-f9b5f84c83b5</td>\n",
       "      <td>let me know more details about this</td>\n",
       "      <td>3</td>\n",
       "      <td>0</td>\n",
       "      <td>4.5.1143533</td>\n",
       "      <td>2022-08-16 04:44:45</td>\n",
       "      <td>NaN</td>\n",
       "      <td>NaN</td>\n",
       "      <td>CONTENT</td>\n",
       "      <td>NEUTRAL</td>\n",
       "      <td>NaN</td>\n",
       "    </tr>\n",
       "    <tr>\n",
       "      <th>2</th>\n",
       "      <td>3cb1136d-e7c6-4999-aa84-fdc7bcdccf56</td>\n",
       "      <td>i've been using this for a while and there's a...</td>\n",
       "      <td>2</td>\n",
       "      <td>0</td>\n",
       "      <td>4.5.1143533</td>\n",
       "      <td>2022-08-16 04:05:27</td>\n",
       "      <td>NaN</td>\n",
       "      <td>NaN</td>\n",
       "      <td>INTERFACE</td>\n",
       "      <td>NEGATIVE</td>\n",
       "      <td>NaN</td>\n",
       "    </tr>\n",
       "    <tr>\n",
       "      <th>3</th>\n",
       "      <td>d6f80f05-a6e8-44f3-a380-7c59ed3d208b</td>\n",
       "      <td>good</td>\n",
       "      <td>2</td>\n",
       "      <td>0</td>\n",
       "      <td>4.5.1143533</td>\n",
       "      <td>2022-08-16 00:22:33</td>\n",
       "      <td>NaN</td>\n",
       "      <td>NaN</td>\n",
       "      <td>USER_EXPERIENCE</td>\n",
       "      <td>POSITIVE</td>\n",
       "      <td>NaN</td>\n",
       "    </tr>\n",
       "    <tr>\n",
       "      <th>4</th>\n",
       "      <td>eecb277c-c658-4b2d-86c9-77d3a7022cac</td>\n",
       "      <td>mjkobe</td>\n",
       "      <td>5</td>\n",
       "      <td>0</td>\n",
       "      <td>4.5.1143533</td>\n",
       "      <td>2022-08-15 20:08:25</td>\n",
       "      <td>NaN</td>\n",
       "      <td>NaN</td>\n",
       "      <td>USER_EXPERIENCE</td>\n",
       "      <td>NEUTRAL</td>\n",
       "      <td>NaN</td>\n",
       "    </tr>\n",
       "    <tr>\n",
       "      <th>...</th>\n",
       "      <td>...</td>\n",
       "      <td>...</td>\n",
       "      <td>...</td>\n",
       "      <td>...</td>\n",
       "      <td>...</td>\n",
       "      <td>...</td>\n",
       "      <td>...</td>\n",
       "      <td>...</td>\n",
       "      <td>...</td>\n",
       "      <td>...</td>\n",
       "      <td>...</td>\n",
       "    </tr>\n",
       "    <tr>\n",
       "      <th>61261</th>\n",
       "      <td>e6f30229-7445-4120-b9dc-e83d5714f3df</td>\n",
       "      <td>stop trying to make me pay more. there are no ...</td>\n",
       "      <td>4</td>\n",
       "      <td>0</td>\n",
       "      <td>4.5.1250403</td>\n",
       "      <td>2025-02-04 13:31:00</td>\n",
       "      <td>NaN</td>\n",
       "      <td>NaN</td>\n",
       "      <td>SUBSCRIPTION</td>\n",
       "      <td>NEGATIVE</td>\n",
       "      <td>4.5.1250403</td>\n",
       "    </tr>\n",
       "    <tr>\n",
       "      <th>61262</th>\n",
       "      <td>b6e4741f-9411-4668-ad3c-d6395cb6af65</td>\n",
       "      <td>good</td>\n",
       "      <td>3</td>\n",
       "      <td>0</td>\n",
       "      <td>4.5.1250091</td>\n",
       "      <td>2025-02-04 09:36:11</td>\n",
       "      <td>NaN</td>\n",
       "      <td>NaN</td>\n",
       "      <td>USER_EXPERIENCE</td>\n",
       "      <td>POSITIVE</td>\n",
       "      <td>4.5.1250091</td>\n",
       "    </tr>\n",
       "    <tr>\n",
       "      <th>61263</th>\n",
       "      <td>db266bb0-7549-440c-b695-7fd41ac4af35</td>\n",
       "      <td>good project</td>\n",
       "      <td>3</td>\n",
       "      <td>0</td>\n",
       "      <td>4.5.1250091</td>\n",
       "      <td>2025-02-04 07:47:37</td>\n",
       "      <td>NaN</td>\n",
       "      <td>NaN</td>\n",
       "      <td>USER_EXPERIENCE</td>\n",
       "      <td>POSITIVE</td>\n",
       "      <td>4.5.1250091</td>\n",
       "    </tr>\n",
       "    <tr>\n",
       "      <th>61264</th>\n",
       "      <td>dbdf033c-05ce-4a64-bcd0-7d8171acae78</td>\n",
       "      <td>very educative, enlightening platform where yo...</td>\n",
       "      <td>5</td>\n",
       "      <td>0</td>\n",
       "      <td>4.5.1250091</td>\n",
       "      <td>2025-02-04 07:00:47</td>\n",
       "      <td>NaN</td>\n",
       "      <td>NaN</td>\n",
       "      <td>CONTENT</td>\n",
       "      <td>POSITIVE</td>\n",
       "      <td>4.5.1250091</td>\n",
       "    </tr>\n",
       "    <tr>\n",
       "      <th>61265</th>\n",
       "      <td>fff20976-8d49-432a-92dd-f460a039a4c8</td>\n",
       "      <td>nice and futuristic</td>\n",
       "      <td>5</td>\n",
       "      <td>0</td>\n",
       "      <td>4.5.1246405</td>\n",
       "      <td>2025-02-04 03:43:17</td>\n",
       "      <td>NaN</td>\n",
       "      <td>NaN</td>\n",
       "      <td>USER_EXPERIENCE</td>\n",
       "      <td>POSITIVE</td>\n",
       "      <td>4.5.1246405</td>\n",
       "    </tr>\n",
       "  </tbody>\n",
       "</table>\n",
       "<p>61266 rows × 11 columns</p>\n",
       "</div>"
      ],
      "text/plain": [
       "                                   reviewId  \\\n",
       "0      326d4bdd-8fc6-4d64-b3bf-ce393fb2ae9b   \n",
       "1      4bbf741b-2f69-43cd-bb76-f9b5f84c83b5   \n",
       "2      3cb1136d-e7c6-4999-aa84-fdc7bcdccf56   \n",
       "3      d6f80f05-a6e8-44f3-a380-7c59ed3d208b   \n",
       "4      eecb277c-c658-4b2d-86c9-77d3a7022cac   \n",
       "...                                     ...   \n",
       "61261  e6f30229-7445-4120-b9dc-e83d5714f3df   \n",
       "61262  b6e4741f-9411-4668-ad3c-d6395cb6af65   \n",
       "61263  db266bb0-7549-440c-b695-7fd41ac4af35   \n",
       "61264  dbdf033c-05ce-4a64-bcd0-7d8171acae78   \n",
       "61265  fff20976-8d49-432a-92dd-f460a039a4c8   \n",
       "\n",
       "                                                 content  score  \\\n",
       "0                                                   woww      5   \n",
       "1                    let me know more details about this      3   \n",
       "2      i've been using this for a while and there's a...      2   \n",
       "3                                                   good      2   \n",
       "4                                                 mjkobe      5   \n",
       "...                                                  ...    ...   \n",
       "61261  stop trying to make me pay more. there are no ...      4   \n",
       "61262                                               good      3   \n",
       "61263                                       good project      3   \n",
       "61264  very educative, enlightening platform where yo...      5   \n",
       "61265                                nice and futuristic      5   \n",
       "\n",
       "       thumbsUpCount reviewCreatedVersion                   at replyContent  \\\n",
       "0                  0                  NaN  2022-08-16 05:55:38          NaN   \n",
       "1                  0          4.5.1143533  2022-08-16 04:44:45          NaN   \n",
       "2                  0          4.5.1143533  2022-08-16 04:05:27          NaN   \n",
       "3                  0          4.5.1143533  2022-08-16 00:22:33          NaN   \n",
       "4                  0          4.5.1143533  2022-08-15 20:08:25          NaN   \n",
       "...              ...                  ...                  ...          ...   \n",
       "61261              0          4.5.1250403  2025-02-04 13:31:00          NaN   \n",
       "61262              0          4.5.1250091  2025-02-04 09:36:11          NaN   \n",
       "61263              0          4.5.1250091  2025-02-04 07:47:37          NaN   \n",
       "61264              0          4.5.1250091  2025-02-04 07:00:47          NaN   \n",
       "61265              0          4.5.1246405  2025-02-04 03:43:17          NaN   \n",
       "\n",
       "      repliedAt predicted_category sentiment   appVersion  \n",
       "0           NaN    USER_EXPERIENCE   NEUTRAL          NaN  \n",
       "1           NaN            CONTENT   NEUTRAL          NaN  \n",
       "2           NaN          INTERFACE  NEGATIVE          NaN  \n",
       "3           NaN    USER_EXPERIENCE  POSITIVE          NaN  \n",
       "4           NaN    USER_EXPERIENCE   NEUTRAL          NaN  \n",
       "...         ...                ...       ...          ...  \n",
       "61261       NaN       SUBSCRIPTION  NEGATIVE  4.5.1250403  \n",
       "61262       NaN    USER_EXPERIENCE  POSITIVE  4.5.1250091  \n",
       "61263       NaN    USER_EXPERIENCE  POSITIVE  4.5.1250091  \n",
       "61264       NaN            CONTENT  POSITIVE  4.5.1250091  \n",
       "61265       NaN    USER_EXPERIENCE  POSITIVE  4.5.1246405  \n",
       "\n",
       "[61266 rows x 11 columns]"
      ]
     },
     "execution_count": 57,
     "metadata": {},
     "output_type": "execute_result"
    }
   ],
   "source": [
    "df"
   ]
  },
  {
   "cell_type": "code",
   "execution_count": 5,
   "metadata": {},
   "outputs": [],
   "source": [
    "target = 'sentiment'\n",
    "X= df.drop(columns= target)\n",
    "y = df[target]"
   ]
  },
  {
   "cell_type": "code",
   "execution_count": 10,
   "metadata": {},
   "outputs": [],
   "source": [
    "vectorizer = CountVectorizer()"
   ]
  },
  {
   "cell_type": "code",
   "execution_count": 14,
   "metadata": {},
   "outputs": [],
   "source": [
    "X_counts = vectorizer.fit_transform(X['content'])"
   ]
  },
  {
   "cell_type": "code",
   "execution_count": 16,
   "metadata": {},
   "outputs": [
    {
     "data": {
      "text/plain": [
       "<61266x21129 sparse matrix of type '<class 'numpy.int64'>'\n",
       "\twith 589420 stored elements in Compressed Sparse Row format>"
      ]
     },
     "execution_count": 16,
     "metadata": {},
     "output_type": "execute_result"
    }
   ],
   "source": [
    "X_counts"
   ]
  },
  {
   "cell_type": "code",
   "execution_count": 18,
   "metadata": {},
   "outputs": [],
   "source": [
    "tfi = TfidfTransformer()\n",
    "X_tfi = tfi.fit_transform(X_counts)"
   ]
  },
  {
   "cell_type": "code",
   "execution_count": 19,
   "metadata": {},
   "outputs": [
    {
     "data": {
      "text/plain": [
       "<61266x21129 sparse matrix of type '<class 'numpy.float64'>'\n",
       "\twith 589420 stored elements in Compressed Sparse Row format>"
      ]
     },
     "execution_count": 19,
     "metadata": {},
     "output_type": "execute_result"
    }
   ],
   "source": [
    "X_tfi"
   ]
  },
  {
   "cell_type": "code",
   "execution_count": 45,
   "metadata": {},
   "outputs": [],
   "source": [
    "X_train, X_test, y_train, y_test = train_test_split(X_tfi,y,test_size=0.3,random_state=42,stratify=y)"
   ]
  },
  {
   "cell_type": "code",
   "execution_count": 46,
   "metadata": {},
   "outputs": [],
   "source": [
    "model = LogisticRegression(penalty='l2').fit(X_train,y_train)"
   ]
  },
  {
   "cell_type": "code",
   "execution_count": 47,
   "metadata": {},
   "outputs": [],
   "source": [
    "y_pred = model.predict(X_test)"
   ]
  },
  {
   "cell_type": "code",
   "execution_count": 48,
   "metadata": {},
   "outputs": [
    {
     "data": {
      "text/plain": [
       "0.8918933623503809"
      ]
     },
     "execution_count": 48,
     "metadata": {},
     "output_type": "execute_result"
    }
   ],
   "source": [
    "model.score(X_test,y_test)"
   ]
  },
  {
   "cell_type": "code",
   "execution_count": 49,
   "metadata": {},
   "outputs": [
    {
     "name": "stdout",
     "output_type": "stream",
     "text": [
      "              precision    recall  f1-score   support\n",
      "\n",
      "    NEGATIVE       0.81      0.72      0.76      2001\n",
      "     NEUTRAL       0.72      0.64      0.68      2550\n",
      "    POSITIVE       0.93      0.96      0.95     13829\n",
      "\n",
      "    accuracy                           0.89     18380\n",
      "   macro avg       0.82      0.77      0.79     18380\n",
      "weighted avg       0.89      0.89      0.89     18380\n",
      "\n"
     ]
    }
   ],
   "source": [
    "print(classification_report(y_test,y_pred))"
   ]
  },
  {
   "cell_type": "code",
   "execution_count": null,
   "metadata": {},
   "outputs": [],
   "source": [
    "naive = MultinomialNB().fit(X_train,y_train)\n",
    "y_pred_nb = naive.predict(X_test)"
   ]
  },
  {
   "cell_type": "code",
   "execution_count": 51,
   "metadata": {},
   "outputs": [
    {
     "data": {
      "text/plain": [
       "0.8065288356909684"
      ]
     },
     "execution_count": 51,
     "metadata": {},
     "output_type": "execute_result"
    }
   ],
   "source": [
    "naive.score(X_test,y_test)"
   ]
  },
  {
   "cell_type": "code",
   "execution_count": 52,
   "metadata": {},
   "outputs": [
    {
     "name": "stdout",
     "output_type": "stream",
     "text": [
      "              precision    recall  f1-score   support\n",
      "\n",
      "    NEGATIVE       0.86      0.35      0.50      2001\n",
      "     NEUTRAL       0.94      0.13      0.23      2550\n",
      "    POSITIVE       0.80      1.00      0.89     13829\n",
      "\n",
      "    accuracy                           0.81     18380\n",
      "   macro avg       0.87      0.49      0.54     18380\n",
      "weighted avg       0.83      0.81      0.75     18380\n",
      "\n"
     ]
    }
   ],
   "source": [
    "print(classification_report(y_test,y_pred_nb))"
   ]
  },
  {
   "cell_type": "code",
   "execution_count": null,
   "metadata": {},
   "outputs": [],
   "source": [
    "clf = RandomForestClassifier().fit(X_train,y_train)"
   ]
  },
  {
   "cell_type": "code",
   "execution_count": 54,
   "metadata": {},
   "outputs": [
    {
     "data": {
      "text/plain": [
       "0.877366702937976"
      ]
     },
     "execution_count": 54,
     "metadata": {},
     "output_type": "execute_result"
    }
   ],
   "source": [
    "y_pred_clf = clf.predict(X_test)\n",
    "clf.score(X_test,y_test)"
   ]
  },
  {
   "cell_type": "code",
   "execution_count": 55,
   "metadata": {},
   "outputs": [
    {
     "name": "stdout",
     "output_type": "stream",
     "text": [
      "              precision    recall  f1-score   support\n",
      "\n",
      "    NEGATIVE       0.85      0.58      0.69      2001\n",
      "     NEUTRAL       0.81      0.57      0.67      2550\n",
      "    POSITIVE       0.89      0.98      0.93     13829\n",
      "\n",
      "    accuracy                           0.88     18380\n",
      "   macro avg       0.85      0.71      0.76     18380\n",
      "weighted avg       0.87      0.88      0.87     18380\n",
      "\n"
     ]
    }
   ],
   "source": [
    "print(classification_report(y_test,y_pred_clf))"
   ]
  }
 ],
 "metadata": {
  "kernelspec": {
   "display_name": "Python 3",
   "language": "python",
   "name": "python3"
  },
  "language_info": {
   "codemirror_mode": {
    "name": "ipython",
    "version": 3
   },
   "file_extension": ".py",
   "mimetype": "text/x-python",
   "name": "python",
   "nbconvert_exporter": "python",
   "pygments_lexer": "ipython3",
   "version": "3.9.6"
  }
 },
 "nbformat": 4,
 "nbformat_minor": 2
}
