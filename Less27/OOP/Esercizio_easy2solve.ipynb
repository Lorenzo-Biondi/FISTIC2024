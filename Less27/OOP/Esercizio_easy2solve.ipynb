{
 "cells": [
  {
   "cell_type": "markdown",
   "metadata": {},
   "source": [
    "# Esercizio 1: crea una classe Libro con le seguenti caratteristiche:\n",
    "\n",
    "Attributi:\n",
    "- titolo: il titolo del libro\n",
    "- autore: l'autore del libro\n",
    "- pagine: il numero di pagine del libro\n",
    "- letto: un booleano che indica se il libro è stato letto (default: False)\n",
    "\n",
    "Metodi:\n",
    "- __init__: il costruttore che inizializza gli attributi\n",
    "- leggi(): imposta l'attributo letto a True e restituisce un messaggio\n",
    "- info(): restituisce una stringa con le informazioni del libro"
   ]
  },
  {
   "cell_type": "code",
   "execution_count": null,
   "metadata": {},
   "outputs": [],
   "source": []
  },
  {
   "cell_type": "code",
   "execution_count": null,
   "metadata": {},
   "outputs": [],
   "source": []
  },
  {
   "cell_type": "markdown",
   "metadata": {},
   "source": [
    "# Esercizio 2: Creazione di una classe Studente\n",
    "Attributi:\n",
    "\n",
    "- nome: nome dello studente\n",
    "- cognome: cognome dello studente\n",
    "- matricola: numero di matricola dello studente\n",
    "- voti: lista che contiene i voti dello studente\n",
    "\n",
    "Metodi:\n",
    "- init : inizializza un nuovo oggetto Studente\n",
    "- : aggiunge un voto alla lista dei voti (se valido)\n",
    "- media_voti: calcola e restituisce la media dei voti\n",
    "- scheda: restituisce una stringa formattata con le informazioni dello studente"
   ]
  },
  {
   "cell_type": "code",
   "execution_count": null,
   "metadata": {},
   "outputs": [],
   "source": []
  },
  {
   "cell_type": "code",
   "execution_count": null,
   "metadata": {},
   "outputs": [],
   "source": []
  },
  {
   "cell_type": "markdown",
   "metadata": {},
   "source": [
    "# Esercizio 3: Creazione di una classe ContoBancario\n",
    "\n",
    "Attributi:\n",
    "\n",
    "- intestatario: il nome dell'intestatario del conto\n",
    "- numero_conto: il numero identificativo del conto bancario\n",
    "- saldo: l'ammontare di denaro presente nel conto (default: 0)\n",
    "- movimenti: una lista che tiene traccia di tutte le operazioni effettuate\n",
    "\n",
    "Metodi:\n",
    "\n",
    "- init: il costruttore che inizializza gli attributi\n",
    "- deposita(importo): aggiunge denaro al conto e registra l'operazione\n",
    "- preleva(importo): sottrae denaro dal conto e registra l'operazione\n",
    "- estratto_conto(): restituisce una stringa con i dettagli del conto e la lista dei movimenti"
   ]
  },
  {
   "cell_type": "code",
   "execution_count": null,
   "metadata": {},
   "outputs": [],
   "source": []
  },
  {
   "cell_type": "code",
   "execution_count": null,
   "metadata": {},
   "outputs": [],
   "source": []
  },
  {
   "cell_type": "markdown",
   "metadata": {},
   "source": [
    "# Esercizio 4: classe Rettangolo\n",
    "Attributi:\n",
    "\n",
    "- base: lunghezza della base del rettangolo\n",
    "- altezza: altezza del rettangolo\n",
    "\n",
    "Metodi:\n",
    "\n",
    "- init: inizializza un nuovo oggetto Rettangolo\n",
    "- area: calcola e restituisce l'area del rettangolo\n",
    "- perimetro: calcola e restituisce il perimetro del rettangolo\n",
    "- scala: ridimensiona il rettangolo secondo il fattore specificato\n",
    "- info: restituisce una stringa formattata con le informazioni del rettangolo\n"
   ]
  },
  {
   "cell_type": "code",
   "execution_count": null,
   "metadata": {},
   "outputs": [],
   "source": []
  },
  {
   "cell_type": "code",
   "execution_count": null,
   "metadata": {},
   "outputs": [],
   "source": []
  }
 ],
 "metadata": {
  "kernelspec": {
   "display_name": "Python 3",
   "language": "python",
   "name": "python3"
  },
  "language_info": {
   "codemirror_mode": {
    "name": "ipython",
    "version": 3
   },
   "file_extension": ".py",
   "mimetype": "text/x-python",
   "name": "python",
   "nbconvert_exporter": "python",
   "pygments_lexer": "ipython3",
   "version": "3.11.9"
  }
 },
 "nbformat": 4,
 "nbformat_minor": 2
}
