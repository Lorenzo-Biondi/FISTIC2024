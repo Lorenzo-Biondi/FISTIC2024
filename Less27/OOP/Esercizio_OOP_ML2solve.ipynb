{
 "cells": [
  {
   "cell_type": "markdown",
   "metadata": {},
   "source": [
    "## Creare un sistema di classi per algoritmi di machine learning\n",
    "\n",
    "sviluppa step by step un sistema di classi per mostrare come applicare i concetti OOP a un caso pratico di classificazione.\n"
   ]
  },
  {
   "cell_type": "markdown",
   "metadata": {},
   "source": [
    "### Step1: Creare una classe base per tutti i classificatori\n",
    "Iniziamo con una classe base che definirà l'interfaccia comune a tutti i classificatori:\n",
    "-  \"\\__init__\\\"\n",
    "- fit\n",
    "- predict\n",
    "- score\n"
   ]
  },
  {
   "cell_type": "code",
   "execution_count": null,
   "metadata": {},
   "outputs": [],
   "source": []
  },
  {
   "cell_type": "markdown",
   "metadata": {},
   "source": [
    "### Step2: Implementare un classificatore con la prediction e lo score"
   ]
  },
  {
   "cell_type": "code",
   "execution_count": null,
   "metadata": {},
   "outputs": [],
   "source": []
  },
  {
   "cell_type": "markdown",
   "metadata": {},
   "source": [
    "### Step3: Implementare un altro classificatore\n",
    "Aggiungiamo una classe per un classificatore k-NN (k Nearest Neighbors) semplificato:\n"
   ]
  },
  {
   "cell_type": "code",
   "execution_count": null,
   "metadata": {},
   "outputs": [],
   "source": []
  },
  {
   "cell_type": "markdown",
   "metadata": {},
   "source": [
    "### Step4: Aggiungere il metodo classification_report\n",
    "Ora aggiungiamo il metodo per generare il classification report alla classe base:\n"
   ]
  },
  {
   "cell_type": "code",
   "execution_count": null,
   "metadata": {},
   "outputs": [],
   "source": []
  },
  {
   "cell_type": "markdown",
   "metadata": {},
   "source": [
    "### Step5: Aggiungere il metodo confusion_matrix\n",
    "Aggiungiamo ora il metodo per visualizzare la matrice di confusione anche per KNN\n"
   ]
  },
  {
   "cell_type": "code",
   "execution_count": null,
   "metadata": {},
   "outputs": [],
   "source": []
  },
  {
   "cell_type": "markdown",
   "metadata": {},
   "source": [
    "### Step 6: Creare una classe per un classificatore più complesso\n",
    "Implementiamo una classe per un classificatore basato su alberi decisionali:\n"
   ]
  },
  {
   "cell_type": "code",
   "execution_count": null,
   "metadata": {},
   "outputs": [],
   "source": []
  },
  {
   "cell_type": "markdown",
   "metadata": {},
   "source": [
    "### Step7: Aggiungere le classi mancanti per SVM e Random Forest\n"
   ]
  },
  {
   "cell_type": "code",
   "execution_count": null,
   "metadata": {},
   "outputs": [],
   "source": []
  },
  {
   "cell_type": "markdown",
   "metadata": {},
   "source": [
    "### Step8: Creazione di una \"factory\" di classificatori\n",
    "Possiamo creare una classe factory per generare facilmente diversi tipi di classificatori:\n"
   ]
  },
  {
   "cell_type": "code",
   "execution_count": null,
   "metadata": {},
   "outputs": [],
   "source": []
  },
  {
   "cell_type": "markdown",
   "metadata": {},
   "source": [
    "### Step 9: Creazione di una classe per la valutazione e confronto dei modelli\n"
   ]
  },
  {
   "cell_type": "markdown",
   "metadata": {},
   "source": []
  },
  {
   "cell_type": "markdown",
   "metadata": {},
   "source": [
    "### Step10: Esempio di utilizzo completo\n",
    "Ecco un esempio di come utilizzare il sistema di classi che abbiamo creato:\n"
   ]
  },
  {
   "cell_type": "code",
   "execution_count": null,
   "metadata": {},
   "outputs": [],
   "source": []
  }
 ],
 "metadata": {
  "kernelspec": {
   "display_name": "Python 3",
   "language": "python",
   "name": "python3"
  },
  "language_info": {
   "codemirror_mode": {
    "name": "ipython",
    "version": 3
   },
   "file_extension": ".py",
   "mimetype": "text/x-python",
   "name": "python",
   "nbconvert_exporter": "python",
   "pygments_lexer": "ipython3",
   "version": "3.11.9"
  }
 },
 "nbformat": 4,
 "nbformat_minor": 2
}
